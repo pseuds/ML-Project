{
 "cells": [
  {
   "cell_type": "code",
   "execution_count": null,
   "metadata": {},
   "outputs": [],
   "source": [
    "from HMM import HMM\n",
    "%reload_ext autoreload"
   ]
  },
  {
   "cell_type": "markdown",
   "metadata": {},
   "source": [
    "## Task 1\n",
    "\n",
    "Created HMM class."
   ]
  },
  {
   "cell_type": "markdown",
   "metadata": {},
   "source": [
    "#### Train and evaluate the datasets"
   ]
  },
  {
   "cell_type": "code",
   "execution_count": null,
   "metadata": {},
   "outputs": [],
   "source": [
    "# # For ES dataset\n",
    "ES_set = HMM(\"Data/ES/train\")\n",
    "ES_set.evaluate(\"Data/ES/dev.in\")\n",
    "\n",
    "# # For RU dataset\n",
    "RU_set = HMM(\"Data/RU/train\")\n",
    "RU_set.evaluate(\"Data/RU/dev.in\")"
   ]
  },
  {
   "cell_type": "markdown",
   "metadata": {},
   "source": [
    "#### Evaluation\n",
    "\n",
    "from `/EvalScript/`, run `python evalResult.py ../Data/ES/dev.out ../Data/ES/dev.p1.out` <br>\n",
    "from `/EvalScript/`, run `python evalResult.py ../Data/RU/dev.out ../Data/RU/dev.p1.out` <br>\n",
    "***\n",
    "#### Results for ES: \n",
    "Entity in gold data: 229 <br>\n",
    "Entity in prediction: 1241 <br>\n",
    "\n",
    "Correct Entity : 180 <br>\n",
    "Entity  precision: 0.1450 <br>\n",
    "Entity  recall: 0.7860 <br>\n",
    "Entity  F: 0.2449 <br>\n",
    "\n",
    "Correct Sentiment : 112 <br>\n",
    "Sentiment  precision: 0.0902 <br>\n",
    "Sentiment  recall: 0.4891 <br>\n",
    "Sentiment  F: 0.1524 <br>\n",
    "***\n",
    "#### Results for RU: \n",
    "Entity in gold data: 389 <br>\n",
    "Entity in prediction: 1521 <br>\n",
    "\n",
    "Correct Entity : 289 <br>\n",
    "Entity  precision: 0.1900 <br>\n",
    "Entity  recall: 0.7429 <br>\n",
    "Entity  F: 0.3026 <br>\n",
    "\n",
    "Correct Sentiment : 161 <br>\n",
    "Sentiment  precision: 0.1059 <br>\n",
    "Sentiment  recall: 0.4139 <br>\n",
    "Sentiment  F: 0.1686 <br>"
   ]
  },
  {
   "cell_type": "markdown",
   "metadata": {},
   "source": [
    "## Task 2"
   ]
  },
  {
   "cell_type": "code",
   "execution_count": null,
   "metadata": {},
   "outputs": [],
   "source": [
    "print(\"Processing ES...\")\n",
    "# For ES dataset\n",
    "ES_set = HMM(\"Data/ES/train\")\n",
    "ES_set.evaluate_viterbi(\"Data/ES/dev.in\")\n",
    "\n",
    "print(\"Processing RU...\")\n",
    "# For RU dataset\n",
    "RU_set = HMM(\"Data/RU/train\")\n",
    "RU_set.evaluate_viterbi(\"Data/RU/dev.in\")"
   ]
  },
  {
   "cell_type": "markdown",
   "metadata": {},
   "source": [
    "#### Evaluation\n",
    "\n",
    "from `/EvalScript/`, run `python evalResult.py ../Data/ES/dev.out ../Data/ES/dev.p2.out` <br>\n",
    "from `/EvalScript/`, run `python evalResult.py ../Data/RU/dev.out ../Data/RU/dev.p2.out` <br>\n",
    "***\n",
    "#### Results for ES: \n",
    "Entity in gold data: 229<br>\n",
    "Entity in prediction: 542<br>\n",
    "\n",
    "Correct Entity : 134<br>\n",
    "Entity  precision: 0.2472<br>\n",
    "Entity  recall: 0.5852<br>\n",
    "Entity  F: 0.3476<br>\n",
    "\n",
    "Correct Sentiment : 97<br>\n",
    "Sentiment  precision: 0.1790<br>\n",
    "Sentiment  recall: 0.4236<br>\n",
    "Sentiment  F: 0.2516<br>\n",
    "***\n",
    "#### Results for RU: \n",
    "Entity in gold data: 389<br>\n",
    "Entity in prediction: 530<br>\n",
    "\n",
    "Correct Entity : 191<br>\n",
    "Entity  precision: 0.3604<br>\n",
    "Entity  recall: 0.4910<br>\n",
    "Entity  F: 0.4157<br>\n",
    "\n",
    "Correct Sentiment : 130<br>\n",
    "Sentiment  precision: 0.2453<br>\n",
    "Sentiment  recall: 0.3342<br>\n",
    "Sentiment  F: 0.2829<br>"
   ]
  },
  {
   "cell_type": "markdown",
   "metadata": {},
   "source": [
    "## Task 3"
   ]
  },
  {
   "cell_type": "code",
   "execution_count": null,
   "metadata": {},
   "outputs": [],
   "source": [
    "print(\"Processing ES...\")\n",
    "# For ES dataset\n",
    "ES_set = HMM(\"Data/ES/train\")\n",
    "ES_set.evaluate_viterbi_kth(\"Data/ES/dev.in\")\n",
    "\n",
    "print(\"Processing RU...\")\n",
    "# For RU dataset\n",
    "RU_set = HMM(\"Data/RU/train\")\n",
    "RU_set.evaluate_viterbi_kth(\"Data/RU/dev.in\")"
   ]
  },
  {
   "cell_type": "markdown",
   "metadata": {},
   "source": [
    "#### Evaluation\n",
    "\n",
    "from `/EvalScript/`, run `python evalResult.py ../Data/ES/dev.out ../Data/ES/dev.p3.2nd.out` <br>\n",
    "from `/EvalScript/`, run `python evalResult.py ../Data/ES/dev.out ../Data/ES/dev.p3.8th.out` <br>\n",
    "from `/EvalScript/`, run `python evalResult.py ../Data/RU/dev.out ../Data/RU/dev.p3.2nd.out` <br>\n",
    "from `/EvalScript/`, run `python evalResult.py ../Data/RU/dev.out ../Data/RU/dev.p3.8th.out` <br>\n",
    "***\n",
    "#### Results for ES -- 2nd best sequence: \n",
    "Entity in gold data: 229<br>\n",
    "#Entity in prediction: 573<br>\n",
    "\n",
    "Correct Entity : 119<br>\n",
    "Entity  precision: 0.2077<br>\n",
    "Entity  recall: 0.5197<br>\n",
    "Entity  F: 0.2968<br>\n",
    "\n",
    "Correct Sentiment : 66<br>\n",
    "Sentiment  precision: 0.1152<br>\n",
    "Sentiment  recall: 0.2882<br>\n",
    "Sentiment  F: 0.1646<br>\n",
    "***\n",
    "#### Results for ES -- 8th best sequence: \n",
    "Entity in gold data: 229<br>\n",
    "Entity in prediction: 867<br>\n",
    "\n",
    "Correct Entity : 126<br>\n",
    "Entity  precision: 0.1453<br>\n",
    "Entity  recall: 0.5502<br>\n",
    "Entity  F: 0.2299<br>\n",
    "\n",
    "Correct Sentiment : 78<br>\n",
    "Sentiment  precision: 0.0900<br>\n",
    "Sentiment  recall: 0.3406<br>\n",
    "Sentiment  F: 0.1423<br>\n",
    "***\n",
    "#### Results for RU -- 2nd best sequence: \n",
    "Entity in gold data: 389<br>\n",
    "Entity in prediction: 1068<br>\n",
    "\n",
    "Correct Entity : 206<br>\n",
    "Entity  precision: 0.1929<br>\n",
    "Entity  recall: 0.5296<br>\n",
    "Entity  F: 0.2828<br>\n",
    "\n",
    "Correct Sentiment : 127<br>\n",
    "Sentiment  precision: 0.1189<br>\n",
    "Sentiment  recall: 0.3265<br>\n",
    "Sentiment  F: 0.1743<br>\n",
    "***\n",
    "#### Results for RU -- 8th best sequence: \n",
    "Entity in gold data: 389<br>\n",
    "Entity in prediction: 1852<br>\n",
    "\n",
    "Correct Entity : 213<br>\n",
    "Entity  precision: 0.1150<br>\n",
    "Entity  recall: 0.5476<br>\n",
    "Entity  F: 0.1901<br>\n",
    "\n",
    "Correct Sentiment : 125<br>\n",
    "Sentiment  precision: 0.0675<br>\n",
    "Sentiment  recall: 0.3213<br>\n",
    "Sentiment  F: 0.1116<br>"
   ]
  }
 ],
 "metadata": {
  "kernelspec": {
   "display_name": "Python 3",
   "language": "python",
   "name": "python3"
  },
  "language_info": {
   "codemirror_mode": {
    "name": "ipython",
    "version": 3
   },
   "file_extension": ".py",
   "mimetype": "text/x-python",
   "name": "python",
   "nbconvert_exporter": "python",
   "pygments_lexer": "ipython3",
   "version": "3.11.3"
  },
  "orig_nbformat": 4
 },
 "nbformat": 4,
 "nbformat_minor": 2
}
