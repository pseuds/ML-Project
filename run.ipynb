{
 "cells": [
  {
   "cell_type": "code",
   "execution_count": 12,
   "metadata": {},
   "outputs": [],
   "source": [
    "from HMM import HMM"
   ]
  },
  {
   "cell_type": "markdown",
   "metadata": {},
   "source": [
    "## Task 1"
   ]
  },
  {
   "cell_type": "markdown",
   "metadata": {},
   "source": [
    "#### Train the datasets"
   ]
  },
  {
   "cell_type": "code",
   "execution_count": 13,
   "metadata": {},
   "outputs": [],
   "source": [
    "# For ES dataset\n",
    "ES_set = HMM(\"Data/ES/train\")\n",
    "ES_set.evaluate(\"Data/ES/dev.in\")\n",
    "\n",
    "# For RU dataset\n",
    "RU_set = HMM(\"Data/RU/train\")\n",
    "RU_set.evaluate(\"Data/RU/dev.in\")"
   ]
  },
  {
   "cell_type": "markdown",
   "metadata": {},
   "source": [
    "#### Precision Scores"
   ]
  },
  {
   "cell_type": "code",
   "execution_count": 14,
   "metadata": {},
   "outputs": [
    {
     "name": "stdout",
     "output_type": "stream",
     "text": [
      "Precision score: 0.714 %\n"
     ]
    }
   ],
   "source": [
    "# For ES dataset\n",
    "gold_result = \"Data/ES/dev.out\"\n",
    "test_result = \"Data/ES/dev.p1.out\"\n",
    "print(\"Precision score:\", round(ES_set.calculate_precision(gold_result, test_result),3), \"%\")"
   ]
  },
  {
   "cell_type": "code",
   "execution_count": 15,
   "metadata": {},
   "outputs": [
    {
     "name": "stdout",
     "output_type": "stream",
     "text": [
      "Precision score: 0.768 %\n"
     ]
    }
   ],
   "source": [
    "# For RU dataset\n",
    "gold_result = \"Data/RU/dev.out\"\n",
    "test_result = \"Data/RU/dev.p1.out\"\n",
    "print(\"Precision score:\", round(RU_set.calculate_precision(gold_result, test_result),3), \"%\")"
   ]
  },
  {
   "cell_type": "markdown",
   "metadata": {},
   "source": [
    "#### Recall Scores"
   ]
  },
  {
   "cell_type": "code",
   "execution_count": 16,
   "metadata": {},
   "outputs": [
    {
     "name": "stdout",
     "output_type": "stream",
     "text": [
      "Recall score: 0.714 %\n"
     ]
    }
   ],
   "source": [
    "# For ES dataset\n",
    "gold_result = \"Data/ES/dev.out\"\n",
    "test_result = \"Data/ES/dev.p1.out\"\n",
    "print(\"Recall score:\", round(ES_set.calculate_recall(gold_result, test_result),3), \"%\")"
   ]
  },
  {
   "cell_type": "code",
   "execution_count": 17,
   "metadata": {},
   "outputs": [
    {
     "name": "stdout",
     "output_type": "stream",
     "text": [
      "Recall score: 0.768 %\n"
     ]
    }
   ],
   "source": [
    "# For RU dataset\n",
    "gold_result = \"Data/RU/dev.out\"\n",
    "test_result = \"Data/RU/dev.p1.out\"\n",
    "print(\"Recall score:\", round(RU_set.calculate_recall(gold_result, test_result),3), \"%\")"
   ]
  },
  {
   "cell_type": "markdown",
   "metadata": {},
   "source": [
    "#### F Scores"
   ]
  },
  {
   "cell_type": "code",
   "execution_count": null,
   "metadata": {},
   "outputs": [],
   "source": [
    "# For ES dataset\n",
    "gold_result = \"Data/ES/dev.out\"\n",
    "test_result = \"Data/ES/dev.p1.out\"\n",
    "print(\"F score:\", round(ES_set.calculate_f_score(gold_result, test_result),3), \"%\")"
   ]
  },
  {
   "cell_type": "code",
   "execution_count": null,
   "metadata": {},
   "outputs": [],
   "source": [
    "# For RU dataset\n",
    "gold_result = \"Data/RU/dev.out\"\n",
    "test_result = \"Data/RU/dev.p1.out\"\n",
    "print(\"F score:\", round(RU_set.calculate_f_score(gold_result, test_result),3), \"%\")"
   ]
  }
 ],
 "metadata": {
  "kernelspec": {
   "display_name": "Python 3",
   "language": "python",
   "name": "python3"
  },
  "language_info": {
   "codemirror_mode": {
    "name": "ipython",
    "version": 3
   },
   "file_extension": ".py",
   "mimetype": "text/x-python",
   "name": "python",
   "nbconvert_exporter": "python",
   "pygments_lexer": "ipython3",
   "version": "3.11.3"
  },
  "orig_nbformat": 4
 },
 "nbformat": 4,
 "nbformat_minor": 2
}
