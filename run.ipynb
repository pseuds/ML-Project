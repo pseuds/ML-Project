{
 "cells": [
  {
   "cell_type": "code",
   "execution_count": 1,
   "metadata": {},
   "outputs": [],
   "source": [
    "from HMM import HMM\n",
    "%reload_ext autoreload"
   ]
  },
  {
   "cell_type": "markdown",
   "metadata": {},
   "source": [
    "## Task 1\n",
    "\n",
    "Created HMM class."
   ]
  },
  {
   "cell_type": "markdown",
   "metadata": {},
   "source": [
    "#### Train and evaluate the datasets"
   ]
  },
  {
   "cell_type": "code",
   "execution_count": 2,
   "metadata": {},
   "outputs": [],
   "source": [
    "# For ES dataset\n",
    "ES_set = HMM(\"Data/ES/train\")\n",
    "# ES_set.evaluate(\"Data/ES/dev.in\")\n",
    "\n",
    "# For RU dataset\n",
    "RU_set = HMM(\"Data/RU/train\")\n",
    "# RU_set.evaluate(\"Data/RU/dev.in\")"
   ]
  },
  {
   "cell_type": "markdown",
   "metadata": {},
   "source": [
    "#### Evaluation\n",
    "\n",
    "from `/EvalScript/`, run `python evalResult.py ../Data/ES/dev.out ../Data/ES/dev.p1.out` <br>\n",
    "from `/EvalScript/`, run `python evalResult.py ../Data/RU/dev.out ../Data/RU/dev.p1.out` <br>\n",
    "***\n",
    "#### Results for ES: \n",
    "Entity in gold data: 229 <br>\n",
    "Entity in prediction: 1241 <br>\n",
    "\n",
    "Correct Entity : 180 <br>\n",
    "Entity  precision: 0.1450 <br>\n",
    "Entity  recall: 0.7860 <br>\n",
    "Entity  F: 0.2449 <br>\n",
    "\n",
    "Correct Sentiment : 112 <br>\n",
    "Sentiment  precision: 0.0902 <br>\n",
    "Sentiment  recall: 0.4891 <br>\n",
    "Sentiment  F: 0.1524 <br>\n",
    "***\n",
    "#### Results for RU: \n",
    "Entity in gold data: 389 <br>\n",
    "Entity in prediction: 1521 <br>\n",
    "\n",
    "Correct Entity : 289 <br>\n",
    "Entity  precision: 0.1900 <br>\n",
    "Entity  recall: 0.7429 <br>\n",
    "Entity  F: 0.3026 <br>\n",
    "\n",
    "Correct Sentiment : 161 <br>\n",
    "Sentiment  precision: 0.1059 <br>\n",
    "Sentiment  recall: 0.4139 <br>\n",
    "Sentiment  F: 0.1686 <br>"
   ]
  },
  {
   "cell_type": "markdown",
   "metadata": {},
   "source": [
    "## Task 2"
   ]
  },
  {
   "cell_type": "code",
   "execution_count": 3,
   "metadata": {},
   "outputs": [
    {
     "name": "stdout",
     "output_type": "stream",
     "text": [
      "For ES: \n",
      "For RU: \n"
     ]
    }
   ],
   "source": [
    "print(\"For ES: \")\n",
    "# For ES dataset\n",
    "# ES_set = HMM(\"Data/ES/train\")\n",
    "ES_set.evaluate_viterbi(\"Data/ES/dev.in\")\n",
    "\n",
    "print(\"For RU: \")\n",
    "# For RU dataset\n",
    "# RU_set = HMM(\"Data/RU/train\")\n",
    "RU_set.evaluate_viterbi(\"Data/RU/dev.in\")"
   ]
  },
  {
   "cell_type": "code",
   "execution_count": 4,
   "metadata": {},
   "outputs": [],
   "source": [
    "# print(ES_set.policy_dict[2][\"I-negative\"])\n",
    "# print(ES_set.tags_list)\n",
    "# print(ES_set.policy_dict[1])\n",
    "# print(ES_set.count_y_dict.keys())"
   ]
  }
 ],
 "metadata": {
  "kernelspec": {
   "display_name": "Python 3",
   "language": "python",
   "name": "python3"
  },
  "language_info": {
   "codemirror_mode": {
    "name": "ipython",
    "version": 3
   },
   "file_extension": ".py",
   "mimetype": "text/x-python",
   "name": "python",
   "nbconvert_exporter": "python",
   "pygments_lexer": "ipython3",
   "version": "3.11.3"
  },
  "orig_nbformat": 4
 },
 "nbformat": 4,
 "nbformat_minor": 2
}
