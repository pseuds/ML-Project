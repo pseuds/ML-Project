{
 "cells": [
  {
   "cell_type": "markdown",
   "metadata": {},
   "source": [
    "### Part 1: "
   ]
  },
  {
   "cell_type": "markdown",
   "metadata": {},
   "source": [
    "#### Evaluation\n",
    "\n",
    "from `/EvalScript/`, run `python evalResult.py ../Data/ES/dev.out ../Data/ES/dev.p1.out` <br>\n",
    "from `/EvalScript/`, run `python evalResult.py ../Data/RU/dev.out ../Data/RU/dev.p1.out` <br>\n",
    "***\n",
    "#### Results for ES: \n",
    "Entity in gold data: 229 <br>\n",
    "Entity in prediction: 1241 <br>\n",
    "\n",
    "Correct Entity : 180 <br>\n",
    "Entity  precision: 0.1450 <br>\n",
    "Entity  recall: 0.7860 <br>\n",
    "Entity  F: 0.2449 <br>\n",
    "\n",
    "Correct Sentiment : 112 <br>\n",
    "Sentiment  precision: 0.0902 <br>\n",
    "Sentiment  recall: 0.4891 <br>\n",
    "Sentiment  F: 0.1524 <br>\n",
    "***\n",
    "#### Results for RU: \n",
    "Entity in gold data: 389 <br>\n",
    "Entity in prediction: 1521 <br>\n",
    "\n",
    "Correct Entity : 289 <br>\n",
    "Entity  precision: 0.1900 <br>\n",
    "Entity  recall: 0.7429 <br>\n",
    "Entity  F: 0.3026 <br>\n",
    "\n",
    "Correct Sentiment : 161 <br>\n",
    "Sentiment  precision: 0.1059 <br>\n",
    "Sentiment  recall: 0.4139 <br>\n",
    "Sentiment  F: 0.1686 <br>"
   ]
  },
  {
   "cell_type": "markdown",
   "metadata": {},
   "source": [
    "### Part 2: "
   ]
  },
  {
   "cell_type": "markdown",
   "metadata": {},
   "source": [
    "#### Evaluation\n",
    "\n",
    "from `/EvalScript/`, run `python evalResult.py ../Data/ES/dev.out ../Data/ES/dev.p2.out` <br>\n",
    "from `/EvalScript/`, run `python evalResult.py ../Data/RU/dev.out ../Data/RU/dev.p2.out` <br>\n",
    "***\n",
    "#### Results for ES: \n",
    "Entity in gold data: 229<br>\n",
    "Entity in prediction: 542<br>\n",
    "\n",
    "Correct Entity : 134<br>\n",
    "Entity  precision: 0.2472<br>\n",
    "Entity  recall: 0.5852<br>\n",
    "Entity  F: 0.3476<br>\n",
    "\n",
    "Correct Sentiment : 97<br>\n",
    "Sentiment  precision: 0.1790<br>\n",
    "Sentiment  recall: 0.4236<br>\n",
    "Sentiment  F: 0.2516<br>\n",
    "***\n",
    "#### Results for RU: \n",
    "Entity in gold data: 389<br>\n",
    "Entity in prediction: 530<br>\n",
    "\n",
    "Correct Entity : 191<br>\n",
    "Entity  precision: 0.3604<br>\n",
    "Entity  recall: 0.4910<br>\n",
    "Entity  F: 0.4157<br>\n",
    "\n",
    "Correct Sentiment : 130<br>\n",
    "Sentiment  precision: 0.2453<br>\n",
    "Sentiment  recall: 0.3342<br>\n",
    "Sentiment  F: 0.2829<br>"
   ]
  },
  {
   "cell_type": "markdown",
   "metadata": {},
   "source": [
    "### Part 3:"
   ]
  },
  {
   "cell_type": "markdown",
   "metadata": {},
   "source": []
  }
 ],
 "metadata": {
  "language_info": {
   "name": "python"
  },
  "orig_nbformat": 4
 },
 "nbformat": 4,
 "nbformat_minor": 2
}
